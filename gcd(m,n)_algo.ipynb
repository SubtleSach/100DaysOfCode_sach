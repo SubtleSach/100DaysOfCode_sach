{
 "cells": [
  {
   "cell_type": "markdown",
   "id": "0202065d",
   "metadata": {},
   "source": [
    "# function gcd(m,n ) for computing greatest common divisor of two numbers"
   ]
  },
  {
   "cell_type": "markdown",
   "id": "48b51cb4",
   "metadata": {},
   "source": [
    "## basic definition algo | gcd(m,n)"
   ]
  },
  {
   "cell_type": "code",
   "execution_count": 1,
   "id": "ca1a058a",
   "metadata": {},
   "outputs": [
    {
     "data": {
      "text/plain": [
       "15"
      ]
     },
     "execution_count": 1,
     "metadata": {},
     "output_type": "execute_result"
    }
   ],
   "source": [
    "def gcd(m,n):\n",
    "    factors_m = []\n",
    "    for i in range(1,m+1):\n",
    "        if (m%i) == 0:\n",
    "            factors_m.append(i)\n",
    "    \n",
    "    factors_n = []\n",
    "    for j in range(1,n+1):\n",
    "        if (n%j) == 0:\n",
    "            factors_n.append(j)\n",
    "    \n",
    "    commonFactors = []\n",
    "    for f in factors_m:\n",
    "        if f in factors_n:\n",
    "            commonFactors.append(f)\n",
    "            \n",
    "    return(commonFactors[-1])\n",
    "\n",
    "gcd(45, 15)"
   ]
  },
  {
   "cell_type": "markdown",
   "id": "1707fc71",
   "metadata": {},
   "source": [
    "## improved algo | gcd(m,n) 2.0 | using single list"
   ]
  },
  {
   "cell_type": "code",
   "execution_count": 2,
   "id": "4b3f5d0e",
   "metadata": {},
   "outputs": [
    {
     "data": {
      "text/plain": [
       "15"
      ]
     },
     "execution_count": 2,
     "metadata": {},
     "output_type": "execute_result"
    }
   ],
   "source": [
    "def gcd(m,n):\n",
    "    cf = []\n",
    "    for i in range(1, (min(m,n)+1)):\n",
    "        if (m%i) == 0 and (n%i) == 0:\n",
    "            cf.append(i)\n",
    "    return(cf[-1])\n",
    "\n",
    "gcd(45, 15)"
   ]
  },
  {
   "cell_type": "markdown",
   "id": "eeb71805",
   "metadata": {},
   "source": [
    "## improved algo | gcd(m,n) 3.0 | No lists!"
   ]
  },
  {
   "cell_type": "code",
   "execution_count": 3,
   "id": "83902d4a",
   "metadata": {},
   "outputs": [
    {
     "data": {
      "text/plain": [
       "15"
      ]
     },
     "execution_count": 3,
     "metadata": {},
     "output_type": "execute_result"
    }
   ],
   "source": [
    "def gcd(m,n):\n",
    "    for i in range(1, (min(m,n)+1)):\n",
    "        if (m%i) == 0 and (n%i) == 0:\n",
    "            mrcf = i        #most recent common factor\n",
    "    return(mrcf)\n",
    "\n",
    "gcd(45, 15)"
   ]
  },
  {
   "cell_type": "markdown",
   "id": "640f1cb6",
   "metadata": {},
   "source": [
    "## improved algo | gcd(m,n) 4.0 | no lists! | scan backwards"
   ]
  },
  {
   "cell_type": "code",
   "execution_count": 4,
   "id": "155f4d90",
   "metadata": {},
   "outputs": [
    {
     "data": {
      "text/plain": [
       "3"
      ]
     },
     "execution_count": 4,
     "metadata": {},
     "output_type": "execute_result"
    }
   ],
   "source": [
    "def gcd(m,n):\n",
    "    \n",
    "    i = min(m,n)\n",
    "    \n",
    "    while i > 0:\n",
    "        if (m%i) == 0 and (n%i) == 0:\n",
    "            return(i)\n",
    "        else:\n",
    "            i = i-1\n",
    "\n",
    "gcd(45, 12)"
   ]
  },
  {
   "cell_type": "markdown",
   "id": "3f4846b8",
   "metadata": {},
   "source": [
    "## Euclid's algo | gcd(m,n) 5.0"
   ]
  },
  {
   "cell_type": "code",
   "execution_count": 5,
   "id": "8729c7c3",
   "metadata": {},
   "outputs": [],
   "source": [
    "def gcd(m,n):\n",
    "    # Assuming m >= n\n",
    "    if m < n:\n",
    "        (m,n) = (n,m)\n",
    "    "
   ]
  },
  {
   "cell_type": "code",
   "execution_count": null,
   "id": "4996bb36",
   "metadata": {},
   "outputs": [],
   "source": []
  }
 ],
 "metadata": {
  "kernelspec": {
   "display_name": "Python 3 (ipykernel)",
   "language": "python",
   "name": "python3"
  },
  "language_info": {
   "codemirror_mode": {
    "name": "ipython",
    "version": 3
   },
   "file_extension": ".py",
   "mimetype": "text/x-python",
   "name": "python",
   "nbconvert_exporter": "python",
   "pygments_lexer": "ipython3",
   "version": "3.9.12"
  }
 },
 "nbformat": 4,
 "nbformat_minor": 5
}
